{
 "cells": [
  {
   "cell_type": "code",
   "execution_count": 12,
   "id": "0d1c9549",
   "metadata": {},
   "outputs": [],
   "source": [
    "# Khai báo các thư viện cần thiết\n",
    "import os\n",
    "import pickle"
   ]
  },
  {
   "cell_type": "code",
   "execution_count": 13,
   "id": "6dd47519",
   "metadata": {},
   "outputs": [
    {
     "name": "stdout",
     "output_type": "stream",
     "text": [
      "Processing folder: test\n",
      "Data set test has been merged into merged_data\\test\n"
     ]
    }
   ],
   "source": [
    "# Duyệt từng folder trong thư mục hiện tại\n",
    "folders = [f for f in os.listdir('.') if os.path.isdir(os.path.join('.', f))]\n",
    "\n",
    "# Tạo thư mục đầu ra \n",
    "output_folder = os.path.join('.', 'merged_data')\n",
    "os.makedirs(output_folder, exist_ok=True)\n",
    "\n",
    "for folder in folders:\n",
    "    # Bỏ qua thư mục đầu ra\n",
    "    if folder == 'merged_data':\n",
    "        continue\n",
    "    \n",
    "    counter = 0\n",
    "    print(f\"Processing folder: {folder}\")\n",
    "    # Lấy danh sách thư mục con \n",
    "    subfolders = [f for f in os.listdir(folder) if os.path.isdir(os.path.join(folder, f))]\n",
    "\n",
    "    # Tạo thư mục đầu ra cùng tên với thư mục đang duyệt\n",
    "    output_folder = os.path.join('merged_data', folder)\n",
    "    os.makedirs(output_folder, exist_ok=True)\n",
    "\n",
    "    # Duyệt từng file trong các thư mục con\n",
    "    for subfolder in subfolders:\n",
    "        subfolder_path = os.path.join(folder, subfolder)\n",
    "        for file in os.listdir(subfolder_path):\n",
    "            file_path = os.path.join(subfolder_path, file)\n",
    "\n",
    "            with open(file_path, 'rb') as f:\n",
    "                # Đọc nội dung file\n",
    "                data = pickle.load(f)\n",
    "            \n",
    "            # Lưu file vào thư mục đầu ra\n",
    "            counter += 1\n",
    "            output_file_path = os.path.join(output_folder, \"data_\" + str(counter) + \".pkl\")\n",
    "            with open(output_file_path, 'wb') as f:\n",
    "                # Ghi nội dung vào file mới\n",
    "                pickle.dump(data, f)\n",
    "    print(f\"Data set {folder} has been merged into {output_folder}\")\n",
    "\n"
   ]
  }
 ],
 "metadata": {
  "kernelspec": {
   "display_name": "d2l",
   "language": "python",
   "name": "python3"
  },
  "language_info": {
   "codemirror_mode": {
    "name": "ipython",
    "version": 3
   },
   "file_extension": ".py",
   "mimetype": "text/x-python",
   "name": "python",
   "nbconvert_exporter": "python",
   "pygments_lexer": "ipython3",
   "version": "3.9.21"
  }
 },
 "nbformat": 4,
 "nbformat_minor": 5
}
